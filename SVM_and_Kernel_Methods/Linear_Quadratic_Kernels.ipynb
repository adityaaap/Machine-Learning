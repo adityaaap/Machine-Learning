{
 "cells": [
  {
   "cell_type": "code",
   "execution_count": 2,
   "id": "5a0dc138",
   "metadata": {},
   "outputs": [
    {
     "data": {
      "image/png": "[encoded data removed]",
      "text/plain": [
       "<Figure size 432x288 with 1 Axes>"
      ]
     },
     "metadata": {
      "needs_background": "light"
     },
     "output_type": "display_data"
    }
   ],
   "source": [
    "import numpy as np\n",
    "from sklearn.datasets import fetch_openml\n",
    "from sklearn import svm\n",
    "from sklearn import preprocessing\n",
    "from scipy.io import arff\n",
    "import matplotlib.pyplot as plt\n",
    "\n",
    "\n",
    "# Load data from https://www.openml.org/d/554\n",
    "X, y = fetch_openml('mnist_784', version=1, return_X_y=True, as_frame=False)\n",
    "\n",
    "# plot one digital image\n",
    "j = 1\n",
    "plt.title('The jth image is a {label}'.format(label=int(y[j]))) \n",
    "plt.imshow(X[j].reshape((28,28)), cmap='gray')\n",
    "plt.show()\n",
    "\n",
    "#Preprocessing: scale data with zero mean and unit variance\n",
    "X = preprocessing.scale(X)\n",
    "\n"
   ]
  },
  {
   "cell_type": "code",
   "execution_count": 4,
   "id": "3e005b98",
   "metadata": {},
   "outputs": [],
   "source": [
    "# Extract out the digits \"4\" and \"9\"\n",
    "X4 = X[y=='4',:]\n",
    "X9 = X[y=='9',:]\n",
    "y4 = 4*np.ones((len(X4),), dtype=int)\n",
    "y9 = 9*np.ones((len(X9),), dtype=int)\n",
    "\n",
    "# X_full = np.concatenate(X4, X9)\n",
    "# y_full = np.concatenate(y4,y9)"
   ]
  },
  {
   "cell_type": "code",
   "execution_count": 5,
   "id": "6f20b610",
   "metadata": {},
   "outputs": [],
   "source": [
    "# split the data into test and train (which further splitted into train and validation)\n",
    "\n",
    "X_train = np.concatenate((X4[0:3000], X9[0:3000]), axis=0)\n",
    "Y_train = np.concatenate((y4[0:3000], y9[0:3000]), axis=0)\n",
    "X_validation = np.concatenate((X4[3000:4000], X9[3000:4000]), axis=0)\n",
    "Y_validation = np.concatenate((y4[3000:4000], y9[3000:4000]), axis=0)\n",
    "X_test = np.concatenate((X4[4000:], X9[4000:]), axis=0)\n",
    "Y_test = np.concatenate((y4[4000:], y9[4000:]), axis=0)"
   ]
  },
  {
   "cell_type": "code",
   "execution_count": 6,
   "id": "e93c5c87",
   "metadata": {},
   "outputs": [
    {
     "name": "stdout",
     "output_type": "stream",
     "text": [
      "[1.00000000e-03 4.64158883e-03 2.15443469e-02 1.00000000e-01\n",
      " 4.64158883e-01 2.15443469e+00 1.00000000e+01 4.64158883e+01\n",
      " 2.15443469e+02 1.00000000e+03]\n"
     ]
    }
   ],
   "source": [
    "C_grid = np.logspace(-3, 3, 10)\n",
    "print(C_grid)"
   ]
  },
  {
   "cell_type": "code",
   "execution_count": 7,
   "id": "54557aa2",
   "metadata": {},
   "outputs": [
    {
     "name": "stdout",
     "output_type": "stream",
     "text": [
      "0.497\n",
      "0.4335\n",
      "0.05400000000000005\n",
      "0.026000000000000023\n",
      "0.01649999999999996\n",
      "0.015000000000000013\n",
      "0.013000000000000012\n",
      "0.013499999999999956\n",
      "0.013499999999999956\n",
      "0.013499999999999956\n"
     ]
    }
   ],
   "source": [
    "######## DEGREE=2 #########\n",
    "\n",
    "Pe = np.zeros(10)\n",
    "\n",
    "from sklearn import svm\n",
    "for i in range (10):\n",
    "    clf= svm.SVC(C=C_grid[i],kernel='poly', degree=2)\n",
    "    clf.fit(X_train,Y_train)\n",
    "    Pe[i] = 1 - clf.score(X_validation,Y_validation)\n",
    "    print(Pe[i])\n",
    "\n"
   ]
  },
  {
   "cell_type": "code",
   "execution_count": 11,
   "id": "5c17a851",
   "metadata": {},
   "outputs": [
    {
     "data": {
      "image/png": "[encoded data removed]",
      "text/plain": [
       "<Figure size 432x288 with 1 Axes>"
      ]
     },
     "metadata": {
      "needs_background": "light"
     },
     "output_type": "display_data"
    }
   ],
   "source": [
    "###### PLOTS #######\n",
    "\n",
    "\n",
    "plt.plot(C_grid[3:10], Pe[3:10])\n",
    "plt.show()"
   ]
  },
  {
   "cell_type": "code",
   "execution_count": 12,
   "id": "1ca5869b",
   "metadata": {},
   "outputs": [
    {
     "name": "stdout",
     "output_type": "stream",
     "text": [
      "Best value of C choosen is 46.41588833612773\n"
     ]
    }
   ],
   "source": [
    "print(\"Best value of C choosen is\", C_grid[7])"
   ]
  },
  {
   "cell_type": "code",
   "execution_count": 14,
   "id": "cd22e91b",
   "metadata": {},
   "outputs": [],
   "source": [
    "X_train_val = np.concatenate((X4[0:4000], X9[0:4000]), axis=0)\n",
    "Y_train_val = np.concatenate((y4[0:4000], y9[0:4000]), axis=0)\n",
    "\n",
    "clf= svm.SVC(C=C_grid[7],kernel='poly', degree=2)\n",
    "clf.fit(X_train_val,Y_train_val)\n",
    "\n",
    "Pe = 1 - clf.score(X_test,Y_test)\n"
   ]
  },
  {
   "cell_type": "code",
   "execution_count": 16,
   "id": "5dd6979a",
   "metadata": {},
   "outputs": [
    {
     "name": "stdout",
     "output_type": "stream",
     "text": [
      "Error for degree 2: 0.012452438602559623\n",
      "Best value of C choosen is 46.41588833612773\n"
     ]
    }
   ],
   "source": [
    "print(\"Error for degree 2:\",Pe)\n",
    "print(\"Best value of C choosen is\", C_grid[7])"
   ]
  },
  {
   "cell_type": "code",
   "execution_count": 20,
   "id": "d00e14bf",
   "metadata": {},
   "outputs": [
    {
     "name": "stdout",
     "output_type": "stream",
     "text": [
      "0.14200000000000002\n",
      "0.10650000000000004\n",
      "0.05449999999999999\n",
      "0.044499999999999984\n",
      "0.033499999999999974\n",
      "0.026000000000000023\n",
      "0.03249999999999997\n",
      "0.03749999999999998\n",
      "0.04200000000000004\n",
      "0.050000000000000044\n"
     ]
    }
   ],
   "source": [
    "##### DEGREE = 1 #######\n",
    "\n",
    "Pe11 = np.zeros(10)\n",
    "from sklearn import svm\n",
    "for i in range (10):\n",
    "    clf= svm.SVC(C=C_grid[i],kernel='poly', degree=1)\n",
    "    clf.fit(X_train,Y_train)\n",
    "    Pe11[i] = 1 - clf.score(X_validation,Y_validation)\n",
    "    print(Pe11[i])"
   ]
  },
  {
   "cell_type": "code",
   "execution_count": 21,
   "id": "4d74b28f",
   "metadata": {},
   "outputs": [
    {
     "data": {
      "image/png": "[encoded data removed]",
      "text/plain": [
       "<Figure size 432x288 with 1 Axes>"
      ]
     },
     "metadata": {
      "needs_background": "light"
     },
     "output_type": "display_data"
    }
   ],
   "source": [
    "plt.plot(C_grid, Pe11)\n",
    "plt.show()"
   ]
  },
  {
   "cell_type": "code",
   "execution_count": 22,
   "id": "4edb40a0",
   "metadata": {},
   "outputs": [],
   "source": [
    "X_train_val = np.concatenate((X4[0:4000], X9[0:4000]), axis=0)\n",
    "Y_train_val = np.concatenate((y4[0:4000], y9[0:4000]), axis=0)\n",
    "\n",
    "clf= svm.SVC(C=C_grid[6],kernel='poly', degree=1)\n",
    "clf.fit(X_train_val,Y_train_val)\n",
    "\n",
    "Pe1 = 1 - clf.score(X_test,Y_test)"
   ]
  },
  {
   "cell_type": "code",
   "execution_count": 23,
   "id": "ca3ec530",
   "metadata": {},
   "outputs": [
    {
     "name": "stdout",
     "output_type": "stream",
     "text": [
      "Error for degree 1: 0.02940159114493257\n",
      "Best value of C choosen is: 10.0\n"
     ]
    }
   ],
   "source": [
    "print(\"Error for degree 1:\", Pe1)\n",
    "print(\"Best value of C choosen is:\", C_grid[6])"
   ]
  },
  {
   "cell_type": "code",
   "execution_count": null,
   "id": "4dc65c01",
   "metadata": {},
   "outputs": [],
   "source": []
  }
 ],
 "metadata": {
  "kernelspec": {
   "display_name": "Python 3 (ipykernel)",
   "language": "python",
   "name": "python3"
  },
  "language_info": {
   "codemirror_mode": {
    "name": "ipython",
    "version": 3
   },
   "file_extension": ".py",
   "mimetype": "text/x-python",
   "name": "python",
   "nbconvert_exporter": "python",
   "pygments_lexer": "ipython3",
   "version": "3.9.12"
  }
 },
 "nbformat": 4,
 "nbformat_minor": 5
}
