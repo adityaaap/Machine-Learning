{
 "cells": [
  {
   "cell_type": "markdown",
   "id": "7519e59c",
   "metadata": {},
   "source": [
    "Ridge Regression"
   ]
  },
  {
   "cell_type": "code",
   "execution_count": 5,
   "id": "674f7ce2",
   "metadata": {},
   "outputs": [],
   "source": [
    "from sklearn.datasets import load_boston\n",
    "# load the boston dataset as a bunch (dictionary-like\n",
    "# container object used by sklearn)\n",
    "boston = load_boston()\n",
    "# access the data and targets\n",
    "X = boston.data\n",
    "y = boston.target\n"
   ]
  },
  {
   "cell_type": "code",
   "execution_count": 6,
   "id": "ffe0aa54",
   "metadata": {},
   "outputs": [],
   "source": [
    "from sklearn import preprocessing\n",
    "X = preprocessing.scale(X)\n",
    "import numpy as np"
   ]
  },
  {
   "cell_type": "code",
   "execution_count": 7,
   "id": "38a3a9d4",
   "metadata": {},
   "outputs": [],
   "source": [
    "import pandas as pd\n",
    "data = pd.DataFrame(boston.data, columns=boston.feature_names)"
   ]
  },
  {
   "cell_type": "code",
   "execution_count": 8,
   "id": "d51e444c",
   "metadata": {},
   "outputs": [],
   "source": [
    "data['MEDV'] = pd.Series(data=boston.target, index=data.index) \n",
    "X = data.drop('MEDV', axis = 1)\n",
    "y = data['MEDV']\n",
    "# Dropping prices values form X and assigning them to y"
   ]
  },
  {
   "cell_type": "code",
   "execution_count": 9,
   "id": "f5473f3f",
   "metadata": {},
   "outputs": [],
   "source": [
    "X = data.iloc[:, 0:13].values\n",
    "y = data.iloc[:, 13].values.reshape(-1,1)"
   ]
  },
  {
   "cell_type": "code",
   "execution_count": 10,
   "id": "6aef4906",
   "metadata": {},
   "outputs": [
    {
     "name": "stdout",
     "output_type": "stream",
     "text": [
      "(320, 13)\n",
      "(106, 13)\n",
      "(320, 1)\n",
      "(106, 1)\n"
     ]
    }
   ],
   "source": [
    "X_Validation = X[0:80]\n",
    "Y_Validation = y[0:80]\n",
    "X_train = X[80:400]\n",
    "Y_train = y[80:400]\n",
    "X_test = X[400:]\n",
    "Y_test = y[400:]\n",
    "l = len(np.dot(X_train.T,X_train))\n",
    "print(X_train.shape)\n",
    "print(X_test.shape)\n",
    "print(Y_train.shape)\n",
    "print(Y_test.shape)"
   ]
  },
  {
   "cell_type": "code",
   "execution_count": 11,
   "id": "19aed4b2",
   "metadata": {},
   "outputs": [],
   "source": [
    "# from sklearn.model_selection import train_test_split\n",
    "# X_train, X_test, Y_train, Y_test = train_test_split(X, y, test_size = 0.20, random_state = 4)\n",
    "# print(X_train.shape)\n",
    "# print(X_test.shape)\n",
    "# print(Y_train.shape)\n",
    "# print(Y_test.shape)\n",
    "# l = len(np.dot(X_train.T,X_train))\n",
    "# print(l)"
   ]
  },
  {
   "cell_type": "code",
   "execution_count": 15,
   "id": "c710a543",
   "metadata": {},
   "outputs": [
    {
     "name": "stdout",
     "output_type": "stream",
     "text": [
      "0.01\n"
     ]
    }
   ],
   "source": [
    "# CROSS VALIDATION\n",
    "\n",
    "from sklearn.linear_model import RidgeCV\n",
    "from sklearn.preprocessing import StandardScaler\n",
    "\n",
    "regr_cv = RidgeCV(alphas=[0.01, 0.1, 1.0, 10.0])\n",
    "\n",
    "model_cv = regr_cv.fit(X_Validation, Y_Validation)\n",
    "\n",
    "lam = model_cv.alpha_\n",
    "print(lam)"
   ]
  },
  {
   "cell_type": "code",
   "execution_count": 17,
   "id": "73e7d093",
   "metadata": {},
   "outputs": [
    {
     "name": "stdout",
     "output_type": "stream",
     "text": [
      "MSE: 34.7527500903151\n",
      "Lambda: 0.01\n"
     ]
    }
   ],
   "source": [
    "import numpy as np\n",
    "alpha = np.dot((np.dot(np.linalg.inv(np.dot(X_train.T,X_train) + lam*np.identity(l)),X_train.T)),Y_train) #the coefficients for 13 varibales\n",
    "Y_pred = np.dot(X_test, alpha)\n",
    "from sklearn.metrics import mean_squared_error\n",
    "print (\"MSE:\", mean_squared_error(Y_test,Y_pred))\n",
    "print(\"Lambda:\", lam)"
   ]
  }
 ],
 "metadata": {
  "kernelspec": {
   "display_name": "Python 3 (ipykernel)",
   "language": "python",
   "name": "python3"
  },
  "language_info": {
   "codemirror_mode": {
    "name": "ipython",
    "version": 3
   },
   "file_extension": ".py",
   "mimetype": "text/x-python",
   "name": "python",
   "nbconvert_exporter": "python",
   "pygments_lexer": "ipython3",
   "version": "3.9.12"
  }
 },
 "nbformat": 4,
 "nbformat_minor": 5
}
