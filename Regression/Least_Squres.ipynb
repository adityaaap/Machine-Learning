{
 "cells": [
  {
   "cell_type": "markdown",
   "id": "f38532cf",
   "metadata": {},
   "source": [
    "Least Squares Implementation"
   ]
  },
  {
   "cell_type": "code",
   "execution_count": 4,
   "id": "f717fc51",
   "metadata": {},
   "outputs": [],
   "source": [
    "from sklearn.datasets import load_boston\n",
    "# load the boston dataset as a bunch (dictionary-like\n",
    "# container object used by sklearn)\n",
    "boston = load_boston()\n",
    "# access the data and targets\n",
    "X = boston.data\n",
    "y = boston.target\n",
    "\n"
   ]
  },
  {
   "cell_type": "code",
   "execution_count": 5,
   "id": "c2f678a7",
   "metadata": {},
   "outputs": [],
   "source": [
    "from sklearn import preprocessing\n",
    "X = preprocessing.scale(X)\n",
    "import statistics\n",
    "import pandas as pd"
   ]
  },
  {
   "cell_type": "code",
   "execution_count": 6,
   "id": "0bc5ed97",
   "metadata": {},
   "outputs": [
    {
     "name": "stdout",
     "output_type": "stream",
     "text": [
      "dict_keys(['data', 'target', 'feature_names', 'DESCR', 'filename', 'data_module'])\n"
     ]
    }
   ],
   "source": [
    "print(boston.keys())"
   ]
  },
  {
   "cell_type": "code",
   "execution_count": 7,
   "id": "efeabb96",
   "metadata": {},
   "outputs": [],
   "source": [
    "data = pd.DataFrame(boston.data, columns=boston.feature_names)"
   ]
  },
  {
   "cell_type": "code",
   "execution_count": 8,
   "id": "117dac14",
   "metadata": {},
   "outputs": [],
   "source": [
    "data['MEDV'] = pd.Series(data=boston.target, index=data.index) \n",
    "X = data.drop('MEDV', axis = 1)\n",
    "y = data['MEDV']\n",
    "X = data.iloc[:, 0:13].values\n",
    "y = data.iloc[:, 13].values.reshape(-1,1)\n",
    "# Dropping prices values form X and assigning them to y"
   ]
  },
  {
   "cell_type": "code",
   "execution_count": 9,
   "id": "09709993",
   "metadata": {},
   "outputs": [
    {
     "name": "stdout",
     "output_type": "stream",
     "text": [
      "(320, 13)\n",
      "(106, 13)\n",
      "(320, 1)\n",
      "(106, 1)\n"
     ]
    }
   ],
   "source": [
    "X_Validation = X[0:80]\n",
    "Y_Validation = y[0:80]\n",
    "X_train = X[80:400]\n",
    "Y_train = y[80:400]\n",
    "X_test = X[400:]\n",
    "Y_test = y[400:]\n",
    "\n",
    "print(X_train.shape)\n",
    "print(X_test.shape)\n",
    "print(Y_train.shape)\n",
    "print(Y_test.shape)"
   ]
  },
  {
   "cell_type": "code",
   "execution_count": 11,
   "id": "b1cc9c3b",
   "metadata": {},
   "outputs": [],
   "source": [
    "import numpy as np\n",
    "alpha = np.dot((np.dot(np.linalg.inv(np.dot(X_train.T,X_train)),X_train.T)),Y_train) #the coefficients for 13 varibales"
   ]
  },
  {
   "cell_type": "code",
   "execution_count": 12,
   "id": "595ba000",
   "metadata": {},
   "outputs": [
    {
     "name": "stdout",
     "output_type": "stream",
     "text": [
      "13\n"
     ]
    }
   ],
   "source": [
    "a = len(alpha)\n",
    "print(a)"
   ]
  },
  {
   "cell_type": "code",
   "execution_count": 13,
   "id": "8470da7a",
   "metadata": {
    "scrolled": false
   },
   "outputs": [],
   "source": [
    "Y_pred = np.dot(X_test, alpha) #predicted y valueb\n",
    "\n",
    "l = len(Y_test)\n",
    "m = len(Y_pred)\n",
    "#print(l)\n",
    "#Y_test_mean = statistics.mean(Y_test) #mean of test data\n",
    "#print(Y_test.shape)\n",
    "#print(Y_pred)"
   ]
  },
  {
   "cell_type": "code",
   "execution_count": 14,
   "id": "1cb8867c",
   "metadata": {},
   "outputs": [
    {
     "name": "stdout",
     "output_type": "stream",
     "text": [
      "MSE: 34.756862424899445\n"
     ]
    }
   ],
   "source": [
    "from sklearn.metrics import mean_squared_error\n",
    "print(\"MSE:\", mean_squared_error(Y_test,Y_pred))\n"
   ]
  }
 ],
 "metadata": {
  "kernelspec": {
   "display_name": "Python 3 (ipykernel)",
   "language": "python",
   "name": "python3"
  },
  "language_info": {
   "codemirror_mode": {
    "name": "ipython",
    "version": 3
   },
   "file_extension": ".py",
   "mimetype": "text/x-python",
   "name": "python",
   "nbconvert_exporter": "python",
   "pygments_lexer": "ipython3",
   "version": "3.9.12"
  }
 },
 "nbformat": 4,
 "nbformat_minor": 5
}
