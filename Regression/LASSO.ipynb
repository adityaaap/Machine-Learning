{
 "cells": [
  {
   "cell_type": "markdown",
   "id": "224703f0",
   "metadata": {},
   "source": [
    "LASSO"
   ]
  },
  {
   "cell_type": "code",
   "execution_count": 2,
   "id": "273e150b",
   "metadata": {},
   "outputs": [],
   "source": [
    "from sklearn.datasets import load_boston\n",
    "# load the boston dataset as a bunch (dictionary-like\n",
    "# container object used by sklearn)\n",
    "boston = load_boston()\n",
    "# access the data and targets\n",
    "X = boston.data\n",
    "y = boston.target"
   ]
  },
  {
   "cell_type": "code",
   "execution_count": 29,
   "id": "9ce67642",
   "metadata": {},
   "outputs": [],
   "source": [
    "from sklearn import preprocessing\n",
    "X = preprocessing.scale(X)\n",
    "import numpy as np"
   ]
  },
  {
   "cell_type": "code",
   "execution_count": 30,
   "id": "aa881b6c",
   "metadata": {},
   "outputs": [],
   "source": [
    "import pandas as pd\n",
    "data = pd.DataFrame(boston.data, columns=boston.feature_names)"
   ]
  },
  {
   "cell_type": "code",
   "execution_count": 31,
   "id": "2d252604",
   "metadata": {},
   "outputs": [],
   "source": [
    "data['MEDV'] = pd.Series(data=boston.target, index=data.index) \n",
    "X = data.drop('MEDV', axis = 1)\n",
    "y = data['MEDV']\n",
    "# Dropping prices values form X and assigning them to y"
   ]
  },
  {
   "cell_type": "code",
   "execution_count": 32,
   "id": "2c234392",
   "metadata": {},
   "outputs": [],
   "source": [
    "X = data.iloc[:, 0:13].values\n",
    "y = data.iloc[:, 13].values.reshape(-1,1)"
   ]
  },
  {
   "cell_type": "code",
   "execution_count": 33,
   "id": "ff12f374",
   "metadata": {},
   "outputs": [
    {
     "name": "stdout",
     "output_type": "stream",
     "text": [
      "(320, 13)\n",
      "(106, 13)\n",
      "(320, 1)\n",
      "(106, 1)\n"
     ]
    }
   ],
   "source": [
    "X_Validation = X[0:80]\n",
    "Y_Validation = y[0:80]\n",
    "X_train = X[80:400]\n",
    "Y_train = y[80:400]\n",
    "X_test = X[400:]\n",
    "Y_test = y[400:]\n",
    "l = len(np.dot(X_train.T,X_train))\n",
    "print(X_train.shape)\n",
    "print(X_test.shape)\n",
    "print(Y_train.shape)\n",
    "print(Y_test.shape)"
   ]
  },
  {
   "cell_type": "code",
   "execution_count": 34,
   "id": "b6a0fa51",
   "metadata": {},
   "outputs": [
    {
     "name": "stdout",
     "output_type": "stream",
     "text": [
      "0.1\n"
     ]
    }
   ],
   "source": [
    "# CROSS VALIDATION\n",
    "\n",
    "from sklearn.linear_model import RidgeCV\n",
    "from sklearn.preprocessing import StandardScaler\n",
    "\n",
    "regr_cv = RidgeCV(alphas=[0.1, 1, 10, 100])\n",
    "\n",
    "model_cv = regr_cv.fit(X_Validation, Y_Validation)\n",
    "\n",
    "lam = model_cv.alpha_\n",
    "print(lam)"
   ]
  },
  {
   "cell_type": "code",
   "execution_count": 35,
   "id": "00722792",
   "metadata": {},
   "outputs": [
    {
     "name": "stdout",
     "output_type": "stream",
     "text": [
      "MSE: 31.293308276526684\n",
      "Non-zeros in theta: 12\n",
      "alpha: 0.1\n"
     ]
    }
   ],
   "source": [
    "## LassoCV gives the best value: choose the lambda value as 0.1\n",
    "from sklearn import linear_model\n",
    "# instantiate and train a Lasso model\n",
    "reg = linear_model.Lasso(alpha = 0.1)\n",
    "reg.fit(X_train,Y_train)\n",
    "# use the trained model to predict ytest from Xtest\n",
    "Y_pred = reg.predict(X_test)\n",
    "#print(y_test)\n",
    "#print(Y_test)\n",
    "from sklearn.metrics import mean_squared_error\n",
    "print(\"MSE:\", mean_squared_error(Y_test,Y_pred))\n",
    "n_nonzero = np.sum(reg.coef_ != 0)\n",
    "print(\"Non-zeros in theta:\", n_nonzero)\n",
    "print(\"alpha:\", lam)"
   ]
  },
  {
   "cell_type": "code",
   "execution_count": null,
   "id": "ea8c7d17",
   "metadata": {},
   "outputs": [],
   "source": [
    "# Method 2\n",
    "\n",
    "# from sklearn.model_selection import train_test_split\n",
    "# X_train, X_test, Y_train, Y_test = train_test_split(X, y, test_size = 0.20, random_state = 4)\n",
    "# print(X_train.shape)\n",
    "# print(X_test.shape)\n",
    "# print(Y_train.shape)\n",
    "# print(Y_test.shape)\n",
    "# l = len(np.dot(X_train.T,X_train))\n",
    "# print(l)\n",
    "\n",
    "# from sklearn.model_selection import train_test_split\n",
    "# def dataset(X,y,size,state):\n",
    "#     X_train, X_test, Y_train, Y_test = train_test_split(X, y, test_size = size, random_state = state)\n",
    "#     return [X_train, X_test, Y_train, Y_test]\n",
    "\n",
    "# A_train, A_test, A_train, A_test = dataset(X_train, Y_train, 0.1, 4)\n",
    "# B_train, B_test, B_train, B_test = dataset(X_train, Y_train, 0.1, 40)\n",
    "# C_train, C_test, C_train, C_test = dataset(X_train, Y_train, 0.1, 400)\n",
    "# D_train, D_test, D_train, D_test = dataset(X_train, Y_train, 0.1, 4000)\n",
    "# E_train, E_test, E_train, E_test = dataset(X_train, Y_train, 0.1, 80000)\n",
    "\n",
    "\n",
    "# def crossValidation(X_train,X_test, Y_train, Y_test,a):\n",
    "#     from sklearn import linear_model\n",
    "#     # instantiate and train a Lasso model\n",
    "#     reg = linear_model.Lasso(alpha = a)\n",
    "#     reg.fit(X_train,Y_train)\n",
    "#     # use the trained model to predict ytest from Xtest\n",
    "#     Y_pred = reg.predict(X_test)\n",
    "#     from sklearn.metrics import mean_squared_error\n",
    "#     return mean_squared_error(Y_test,Y_pred)\n",
    "\n",
    "# mse1 = crossValidation(A_train, A_test, A_train, A_test, 0.001)\n",
    "# mse2 = crossValidation(B_train, B_test, B_train, B_test, 0.01)\n",
    "# mse3 = crossValidation(C_train, C_test, C_train, C_test, 0.1)\n",
    "# mse4 = crossValidation(D_train, D_test, D_train, D_test, 1)\n",
    "# mse5 = crossValidation(E_train, E_test, E_train, E_test, 10)\n",
    "\n",
    "# MSE = np.array([mse1 , mse2, mse3 , mse4 , mse5])\n",
    "# print(mse1)\n",
    "# print(mse2)\n",
    "# print(mse3)\n",
    "# print(mse4)\n",
    "# print(mse5)\n",
    "# print(np.argmin(MSE))"
   ]
  }
 ],
 "metadata": {
  "kernelspec": {
   "display_name": "Python 3.9.13 ('base')",
   "language": "python",
   "name": "python3"
  },
  "language_info": {
   "codemirror_mode": {
    "name": "ipython",
    "version": 3
   },
   "file_extension": ".py",
   "mimetype": "text/x-python",
   "name": "python",
   "nbconvert_exporter": "python",
   "pygments_lexer": "ipython3",
   "version": "3.9.13"
  },
  "vscode": {
   "interpreter": {
    "hash": "c70d95f6b6b98ad3bf971fe1173fba9a78e4f66b001a4059a351e4bfbd57f026"
   }
  }
 },
 "nbformat": 4,
 "nbformat_minor": 5
}
